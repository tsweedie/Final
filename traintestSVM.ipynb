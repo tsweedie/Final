{
 "cells": [
  {
   "cell_type": "markdown",
   "metadata": {},
   "source": [
    "# Gridsearch, Training & Testing for AHED"
   ]
  },
  {
   "cell_type": "markdown",
   "metadata": {},
   "source": [
    "Python Tools used:"
   ]
  },
  {
   "cell_type": "code",
   "execution_count": 6,
   "metadata": {},
   "outputs": [
    {
     "name": "stderr",
     "output_type": "stream",
     "text": [
      "/home/tshidi/.local/lib/python2.7/site-packages/sklearn/cross_validation.py:41: DeprecationWarning: This module was deprecated in version 0.18 in favor of the model_selection module into which all the refactored classes and functions are moved. Also note that the interface of the new CV iterators are different from that of this module. This module will be removed in 0.20.\n",
      "  \"This module will be removed in 0.20.\", DeprecationWarning)\n"
     ]
    }
   ],
   "source": [
    "#import cv2\n",
    "import numpy as np\n",
    "import pandas as pd\n",
    "import seaborn as sb\n",
    "import pylab as pl\n",
    "import os\n",
    "import itertools  \n",
    "import matplotlib.pyplot as plt\n",
    "import shutil\n",
    "from sklearn import svm\n",
    "from sklearn.model_selection import GridSearchCV\n",
    "from sklearn.metrics import classification_report, confusion_matrix, accuracy_score, average_precision_score\n",
    "import pickle\n",
    "from sklearn.cross_validation import train_test_split\n",
    "from sklearn.linear_model import LogisticRegression\n",
    "from sklearn.metrics import classification_report"
   ]
  },
  {
   "cell_type": "code",
   "execution_count": 7,
   "metadata": {},
   "outputs": [
    {
     "data": {
      "text/html": [
       "<div>\n",
       "<table border=\"1\" class=\"dataframe\">\n",
       "  <thead>\n",
       "    <tr style=\"text-align: right;\">\n",
       "      <th></th>\n",
       "      <th>1</th>\n",
       "      <th>0.1755708118151386</th>\n",
       "      <th>0.14642473481677068</th>\n",
       "      <th>0.18552330792390287</th>\n",
       "      <th>0.14370128065207038</th>\n",
       "      <th>0.25527296851499204</th>\n",
       "      <th>0.0</th>\n",
       "      <th>0.0.1</th>\n",
       "      <th>0.0.2</th>\n",
       "      <th>0.1764717724116274</th>\n",
       "      <th>...</th>\n",
       "      <th>0.20986508342186436</th>\n",
       "      <th>0.12743191355190034</th>\n",
       "      <th>0.08833456618407326</th>\n",
       "      <th>0.09654087848051117</th>\n",
       "      <th>0.07869364598174147</th>\n",
       "      <th>0.0.3727</th>\n",
       "      <th>0.07379748789210933</th>\n",
       "      <th>0.051141278871834325</th>\n",
       "      <th>0.0.3728</th>\n",
       "      <th>0.0.3729</th>\n",
       "    </tr>\n",
       "  </thead>\n",
       "  <tbody>\n",
       "    <tr>\n",
       "      <th>0</th>\n",
       "      <td>2</td>\n",
       "      <td>0.220721</td>\n",
       "      <td>0.238169</td>\n",
       "      <td>0.190222</td>\n",
       "      <td>0.000000</td>\n",
       "      <td>0.051662</td>\n",
       "      <td>0.000000</td>\n",
       "      <td>0.056101</td>\n",
       "      <td>0.113591</td>\n",
       "      <td>0.132708</td>\n",
       "      <td>...</td>\n",
       "      <td>0.276634</td>\n",
       "      <td>0.048477</td>\n",
       "      <td>0.064170</td>\n",
       "      <td>0.050746</td>\n",
       "      <td>0.052017</td>\n",
       "      <td>0.018114</td>\n",
       "      <td>0.000000</td>\n",
       "      <td>0.060928</td>\n",
       "      <td>0.000000</td>\n",
       "      <td>0.052017</td>\n",
       "    </tr>\n",
       "    <tr>\n",
       "      <th>1</th>\n",
       "      <td>3</td>\n",
       "      <td>0.169057</td>\n",
       "      <td>0.290219</td>\n",
       "      <td>0.395395</td>\n",
       "      <td>0.032655</td>\n",
       "      <td>0.045486</td>\n",
       "      <td>0.000000</td>\n",
       "      <td>0.000000</td>\n",
       "      <td>0.000000</td>\n",
       "      <td>0.032655</td>\n",
       "      <td>...</td>\n",
       "      <td>0.058169</td>\n",
       "      <td>0.155461</td>\n",
       "      <td>0.000000</td>\n",
       "      <td>0.099352</td>\n",
       "      <td>0.134411</td>\n",
       "      <td>0.152308</td>\n",
       "      <td>0.000000</td>\n",
       "      <td>0.071611</td>\n",
       "      <td>0.000000</td>\n",
       "      <td>0.123489</td>\n",
       "    </tr>\n",
       "    <tr>\n",
       "      <th>2</th>\n",
       "      <td>4</td>\n",
       "      <td>0.295198</td>\n",
       "      <td>0.035808</td>\n",
       "      <td>0.000000</td>\n",
       "      <td>0.000000</td>\n",
       "      <td>0.000000</td>\n",
       "      <td>0.039879</td>\n",
       "      <td>0.000000</td>\n",
       "      <td>0.000000</td>\n",
       "      <td>0.094526</td>\n",
       "      <td>...</td>\n",
       "      <td>0.069816</td>\n",
       "      <td>0.052311</td>\n",
       "      <td>0.033110</td>\n",
       "      <td>0.020736</td>\n",
       "      <td>0.026074</td>\n",
       "      <td>0.049319</td>\n",
       "      <td>0.074094</td>\n",
       "      <td>0.056923</td>\n",
       "      <td>0.000000</td>\n",
       "      <td>0.049511</td>\n",
       "    </tr>\n",
       "    <tr>\n",
       "      <th>3</th>\n",
       "      <td>5</td>\n",
       "      <td>0.089366</td>\n",
       "      <td>0.220822</td>\n",
       "      <td>0.117111</td>\n",
       "      <td>0.061826</td>\n",
       "      <td>0.000000</td>\n",
       "      <td>0.000000</td>\n",
       "      <td>0.064072</td>\n",
       "      <td>0.000000</td>\n",
       "      <td>0.055367</td>\n",
       "      <td>...</td>\n",
       "      <td>0.238007</td>\n",
       "      <td>0.109778</td>\n",
       "      <td>0.097254</td>\n",
       "      <td>0.041812</td>\n",
       "      <td>0.000000</td>\n",
       "      <td>0.016524</td>\n",
       "      <td>0.000000</td>\n",
       "      <td>0.000000</td>\n",
       "      <td>0.055339</td>\n",
       "      <td>0.060947</td>\n",
       "    </tr>\n",
       "    <tr>\n",
       "      <th>4</th>\n",
       "      <td>6</td>\n",
       "      <td>0.127274</td>\n",
       "      <td>0.314363</td>\n",
       "      <td>0.417757</td>\n",
       "      <td>0.000000</td>\n",
       "      <td>0.000000</td>\n",
       "      <td>0.000000</td>\n",
       "      <td>0.000000</td>\n",
       "      <td>0.040716</td>\n",
       "      <td>0.000000</td>\n",
       "      <td>...</td>\n",
       "      <td>0.000000</td>\n",
       "      <td>0.055436</td>\n",
       "      <td>0.023930</td>\n",
       "      <td>0.040592</td>\n",
       "      <td>0.040246</td>\n",
       "      <td>0.066143</td>\n",
       "      <td>0.044179</td>\n",
       "      <td>0.000000</td>\n",
       "      <td>0.000000</td>\n",
       "      <td>0.036137</td>\n",
       "    </tr>\n",
       "  </tbody>\n",
       "</table>\n",
       "<p>5 rows × 11665 columns</p>\n",
       "</div>"
      ],
      "text/plain": [
       "   1  0.1755708118151386  0.14642473481677068  0.18552330792390287  \\\n",
       "0  2            0.220721             0.238169             0.190222   \n",
       "1  3            0.169057             0.290219             0.395395   \n",
       "2  4            0.295198             0.035808             0.000000   \n",
       "3  5            0.089366             0.220822             0.117111   \n",
       "4  6            0.127274             0.314363             0.417757   \n",
       "\n",
       "   0.14370128065207038  0.25527296851499204       0.0     0.0.1     0.0.2  \\\n",
       "0             0.000000             0.051662  0.000000  0.056101  0.113591   \n",
       "1             0.032655             0.045486  0.000000  0.000000  0.000000   \n",
       "2             0.000000             0.000000  0.039879  0.000000  0.000000   \n",
       "3             0.061826             0.000000  0.000000  0.064072  0.000000   \n",
       "4             0.000000             0.000000  0.000000  0.000000  0.040716   \n",
       "\n",
       "   0.1764717724116274    ...     0.20986508342186436  0.12743191355190034  \\\n",
       "0            0.132708    ...                0.276634             0.048477   \n",
       "1            0.032655    ...                0.058169             0.155461   \n",
       "2            0.094526    ...                0.069816             0.052311   \n",
       "3            0.055367    ...                0.238007             0.109778   \n",
       "4            0.000000    ...                0.000000             0.055436   \n",
       "\n",
       "   0.08833456618407326  0.09654087848051117  0.07869364598174147  0.0.3727  \\\n",
       "0             0.064170             0.050746             0.052017  0.018114   \n",
       "1             0.000000             0.099352             0.134411  0.152308   \n",
       "2             0.033110             0.020736             0.026074  0.049319   \n",
       "3             0.097254             0.041812             0.000000  0.016524   \n",
       "4             0.023930             0.040592             0.040246  0.066143   \n",
       "\n",
       "   0.07379748789210933  0.051141278871834325  0.0.3728  0.0.3729  \n",
       "0             0.000000              0.060928  0.000000  0.052017  \n",
       "1             0.000000              0.071611  0.000000  0.123489  \n",
       "2             0.074094              0.056923  0.000000  0.049511  \n",
       "3             0.000000              0.000000  0.055339  0.060947  \n",
       "4             0.044179              0.000000  0.000000  0.036137  \n",
       "\n",
       "[5 rows x 11665 columns]"
      ]
     },
     "execution_count": 7,
     "metadata": {},
     "output_type": "execute_result"
    }
   ],
   "source": [
    "path = 'Files/dataCsv.csv' #change to relevant path\n",
    "dataset = pd.read_csv(path)\n",
    "dataset.head()"
   ]
  },
  {
   "cell_type": "markdown",
   "metadata": {},
   "source": [
    "Get dataset(.csv file) and FeatureExtraction class"
   ]
  },
  {
   "cell_type": "code",
   "execution_count": null,
   "metadata": {},
   "outputs": [],
   "source": [
    "X = dataset.iloc[:,1:].values\n",
    "y = dataset.iloc[:,0].values"
   ]
  },
  {
   "cell_type": "code",
   "execution_count": null,
   "metadata": {},
   "outputs": [],
   "source": [
    "X_train, X_test, y_train, y_test = train_test_split(X, y, test_size=.40, stratify = y, random_state=40)"
   ]
  },
  {
   "cell_type": "markdown",
   "metadata": {},
   "source": [
    "# Grid Search"
   ]
  },
  {
   "cell_type": "markdown",
   "metadata": {},
   "source": [
    "Grid Search parameters[C and gamma], for the linear & rbf kernel. The range for C and gamma values:"
   ]
  },
  {
   "attachments": {
    "CodeCogsEqn.gif": {
     "image/gif": "[encoded data removed]"
    }
   },
   "cell_type": "markdown",
   "metadata": {},
   "source": [
    "![CodeCogsEqn.gif](attachment:CodeCogsEqn.gif)"
   ]
  },
  {
   "cell_type": "code",
   "execution_count": 12,
   "metadata": {
    "collapsed": true
   },
   "outputs": [],
   "source": [
    "#C = np.logspace(-5, 15,num=21,base = 2.0)\n",
    "#gamma = np.logspace(-15, 3, num=19,base = 2.0)\n",
    "param_grid = [\n",
    "        \t{'C': [1, 10, 100, 1000], 'kernel': ['linear']},\n",
    "        \t{'C': [1, 10, 100, 1000], 'gamma': [0.001, 0.0001], 'kernel': ['rbf']},\n",
    "        \t ]"
   ]
  },
  {
   "cell_type": "markdown",
   "metadata": {},
   "source": [
    "Set up the SVM, which is Support Vector Classification(SVC). The SVC is based on libsvm and uses one-vs-one for multiclass classification. "
   ]
  },
  {
   "cell_type": "code",
   "execution_count": 166,
   "metadata": {
    "collapsed": true
   },
   "outputs": [],
   "source": [
    "svc = svm.SVC(probability=True)\n",
    "clf = GridSearchCV(svc, param_grid) "
   ]
  },
  {
   "cell_type": "markdown",
   "metadata": {},
   "source": [
    "# Training SVM"
   ]
  },
  {
   "cell_type": "markdown",
   "metadata": {},
   "source": [
    "Fit the the Model(clf) to the training data, for training:"
   ]
  },
  {
   "cell_type": "code",
   "execution_count": 167,
   "metadata": {
    "collapsed": true
   },
   "outputs": [],
   "source": [
    "clf = clf.fit(X_train, y_train)"
   ]
  },
  {
   "cell_type": "markdown",
   "metadata": {},
   "source": [
    "Results from the Grid Search, for the best Model"
   ]
  },
  {
   "cell_type": "markdown",
   "metadata": {},
   "source": [
    "SVM Best Estimator:"
   ]
  },
  {
   "cell_type": "code",
   "execution_count": 168,
   "metadata": {},
   "outputs": [
    {
     "data": {
      "text/plain": [
       "SVC(C=1, cache_size=200, class_weight=None, coef0=0.0,\n",
       "  decision_function_shape=None, degree=3, gamma='auto', kernel='linear',\n",
       "  max_iter=-1, probability=True, random_state=None, shrinking=True,\n",
       "  tol=0.001, verbose=False)"
      ]
     },
     "execution_count": 168,
     "metadata": {},
     "output_type": "execute_result"
    }
   ],
   "source": [
    "clf.best_estimator_"
   ]
  },
  {
   "cell_type": "markdown",
   "metadata": {},
   "source": [
    "SVM Grid Scores:"
   ]
  },
  {
   "cell_type": "code",
   "execution_count": 169,
   "metadata": {},
   "outputs": [
    {
     "data": {
      "text/html": [
       "<div>\n",
       "<style>\n",
       "    .dataframe thead tr:only-child th {\n",
       "        text-align: right;\n",
       "    }\n",
       "\n",
       "    .dataframe thead th {\n",
       "        text-align: left;\n",
       "    }\n",
       "\n",
       "    .dataframe tbody tr th {\n",
       "        vertical-align: top;\n",
       "    }\n",
       "</style>\n",
       "<table border=\"1\" class=\"dataframe\">\n",
       "  <thead>\n",
       "    <tr style=\"text-align: right;\">\n",
       "      <th></th>\n",
       "      <th>mean_fit_time</th>\n",
       "      <th>mean_score_time</th>\n",
       "      <th>mean_test_score</th>\n",
       "      <th>mean_train_score</th>\n",
       "      <th>param_C</th>\n",
       "      <th>param_gamma</th>\n",
       "      <th>param_kernel</th>\n",
       "      <th>params</th>\n",
       "      <th>rank_test_score</th>\n",
       "      <th>split0_test_score</th>\n",
       "      <th>split0_train_score</th>\n",
       "      <th>split1_test_score</th>\n",
       "      <th>split1_train_score</th>\n",
       "      <th>split2_test_score</th>\n",
       "      <th>split2_train_score</th>\n",
       "      <th>std_fit_time</th>\n",
       "      <th>std_score_time</th>\n",
       "      <th>std_test_score</th>\n",
       "      <th>std_train_score</th>\n",
       "    </tr>\n",
       "  </thead>\n",
       "  <tbody>\n",
       "    <tr>\n",
       "      <th>0</th>\n",
       "      <td>0.652333</td>\n",
       "      <td>0.037333</td>\n",
       "      <td>0.781513</td>\n",
       "      <td>1.000000</td>\n",
       "      <td>1</td>\n",
       "      <td>NaN</td>\n",
       "      <td>linear</td>\n",
       "      <td>{u'kernel': u'linear', u'C': 1}</td>\n",
       "      <td>1</td>\n",
       "      <td>0.740741</td>\n",
       "      <td>1.000000</td>\n",
       "      <td>0.7625</td>\n",
       "      <td>1.000000</td>\n",
       "      <td>0.844156</td>\n",
       "      <td>1.000000</td>\n",
       "      <td>0.015326</td>\n",
       "      <td>0.002055</td>\n",
       "      <td>0.044236</td>\n",
       "      <td>0.000000</td>\n",
       "    </tr>\n",
       "    <tr>\n",
       "      <th>1</th>\n",
       "      <td>0.647333</td>\n",
       "      <td>0.040000</td>\n",
       "      <td>0.781513</td>\n",
       "      <td>1.000000</td>\n",
       "      <td>10</td>\n",
       "      <td>NaN</td>\n",
       "      <td>linear</td>\n",
       "      <td>{u'kernel': u'linear', u'C': 10}</td>\n",
       "      <td>1</td>\n",
       "      <td>0.740741</td>\n",
       "      <td>1.000000</td>\n",
       "      <td>0.7625</td>\n",
       "      <td>1.000000</td>\n",
       "      <td>0.844156</td>\n",
       "      <td>1.000000</td>\n",
       "      <td>0.021453</td>\n",
       "      <td>0.005099</td>\n",
       "      <td>0.044236</td>\n",
       "      <td>0.000000</td>\n",
       "    </tr>\n",
       "    <tr>\n",
       "      <th>2</th>\n",
       "      <td>0.650000</td>\n",
       "      <td>0.034000</td>\n",
       "      <td>0.781513</td>\n",
       "      <td>1.000000</td>\n",
       "      <td>100</td>\n",
       "      <td>NaN</td>\n",
       "      <td>linear</td>\n",
       "      <td>{u'kernel': u'linear', u'C': 100}</td>\n",
       "      <td>1</td>\n",
       "      <td>0.740741</td>\n",
       "      <td>1.000000</td>\n",
       "      <td>0.7625</td>\n",
       "      <td>1.000000</td>\n",
       "      <td>0.844156</td>\n",
       "      <td>1.000000</td>\n",
       "      <td>0.015513</td>\n",
       "      <td>0.004243</td>\n",
       "      <td>0.044236</td>\n",
       "      <td>0.000000</td>\n",
       "    </tr>\n",
       "    <tr>\n",
       "      <th>3</th>\n",
       "      <td>0.662667</td>\n",
       "      <td>0.037333</td>\n",
       "      <td>0.781513</td>\n",
       "      <td>1.000000</td>\n",
       "      <td>1000</td>\n",
       "      <td>NaN</td>\n",
       "      <td>linear</td>\n",
       "      <td>{u'kernel': u'linear', u'C': 1000}</td>\n",
       "      <td>1</td>\n",
       "      <td>0.740741</td>\n",
       "      <td>1.000000</td>\n",
       "      <td>0.7625</td>\n",
       "      <td>1.000000</td>\n",
       "      <td>0.844156</td>\n",
       "      <td>1.000000</td>\n",
       "      <td>0.023893</td>\n",
       "      <td>0.002055</td>\n",
       "      <td>0.044236</td>\n",
       "      <td>0.000000</td>\n",
       "    </tr>\n",
       "    <tr>\n",
       "      <th>4</th>\n",
       "      <td>0.653333</td>\n",
       "      <td>0.044000</td>\n",
       "      <td>0.243697</td>\n",
       "      <td>0.243703</td>\n",
       "      <td>1</td>\n",
       "      <td>0.001</td>\n",
       "      <td>rbf</td>\n",
       "      <td>{u'kernel': u'rbf', u'C': 1, u'gamma': 0.001}</td>\n",
       "      <td>10</td>\n",
       "      <td>0.246914</td>\n",
       "      <td>0.242038</td>\n",
       "      <td>0.2375</td>\n",
       "      <td>0.246835</td>\n",
       "      <td>0.246753</td>\n",
       "      <td>0.242236</td>\n",
       "      <td>0.020548</td>\n",
       "      <td>0.006377</td>\n",
       "      <td>0.004410</td>\n",
       "      <td>0.002216</td>\n",
       "    </tr>\n",
       "    <tr>\n",
       "      <th>5</th>\n",
       "      <td>0.583667</td>\n",
       "      <td>0.042000</td>\n",
       "      <td>0.243697</td>\n",
       "      <td>0.243703</td>\n",
       "      <td>1</td>\n",
       "      <td>0.0001</td>\n",
       "      <td>rbf</td>\n",
       "      <td>{u'kernel': u'rbf', u'C': 1, u'gamma': 0.0001}</td>\n",
       "      <td>10</td>\n",
       "      <td>0.246914</td>\n",
       "      <td>0.242038</td>\n",
       "      <td>0.2375</td>\n",
       "      <td>0.246835</td>\n",
       "      <td>0.246753</td>\n",
       "      <td>0.242236</td>\n",
       "      <td>0.008014</td>\n",
       "      <td>0.003559</td>\n",
       "      <td>0.004410</td>\n",
       "      <td>0.002216</td>\n",
       "    </tr>\n",
       "    <tr>\n",
       "      <th>6</th>\n",
       "      <td>0.671333</td>\n",
       "      <td>0.041333</td>\n",
       "      <td>0.420168</td>\n",
       "      <td>0.434818</td>\n",
       "      <td>10</td>\n",
       "      <td>0.001</td>\n",
       "      <td>rbf</td>\n",
       "      <td>{u'kernel': u'rbf', u'C': 10, u'gamma': 0.001}</td>\n",
       "      <td>8</td>\n",
       "      <td>0.444444</td>\n",
       "      <td>0.426752</td>\n",
       "      <td>0.4000</td>\n",
       "      <td>0.436709</td>\n",
       "      <td>0.415584</td>\n",
       "      <td>0.440994</td>\n",
       "      <td>0.012763</td>\n",
       "      <td>0.002868</td>\n",
       "      <td>0.018550</td>\n",
       "      <td>0.005966</td>\n",
       "    </tr>\n",
       "    <tr>\n",
       "      <th>7</th>\n",
       "      <td>0.657667</td>\n",
       "      <td>0.041333</td>\n",
       "      <td>0.243697</td>\n",
       "      <td>0.243703</td>\n",
       "      <td>10</td>\n",
       "      <td>0.0001</td>\n",
       "      <td>rbf</td>\n",
       "      <td>{u'kernel': u'rbf', u'C': 10, u'gamma': 0.0001}</td>\n",
       "      <td>10</td>\n",
       "      <td>0.246914</td>\n",
       "      <td>0.242038</td>\n",
       "      <td>0.2375</td>\n",
       "      <td>0.246835</td>\n",
       "      <td>0.246753</td>\n",
       "      <td>0.242236</td>\n",
       "      <td>0.012684</td>\n",
       "      <td>0.002625</td>\n",
       "      <td>0.004410</td>\n",
       "      <td>0.002216</td>\n",
       "    </tr>\n",
       "    <tr>\n",
       "      <th>8</th>\n",
       "      <td>0.626000</td>\n",
       "      <td>0.037000</td>\n",
       "      <td>0.705882</td>\n",
       "      <td>0.970619</td>\n",
       "      <td>100</td>\n",
       "      <td>0.001</td>\n",
       "      <td>rbf</td>\n",
       "      <td>{u'kernel': u'rbf', u'C': 100, u'gamma': 0.001}</td>\n",
       "      <td>7</td>\n",
       "      <td>0.654321</td>\n",
       "      <td>0.961783</td>\n",
       "      <td>0.7125</td>\n",
       "      <td>0.987342</td>\n",
       "      <td>0.753247</td>\n",
       "      <td>0.962733</td>\n",
       "      <td>0.021182</td>\n",
       "      <td>0.000817</td>\n",
       "      <td>0.040563</td>\n",
       "      <td>0.011831</td>\n",
       "    </tr>\n",
       "    <tr>\n",
       "      <th>9</th>\n",
       "      <td>0.663667</td>\n",
       "      <td>0.039667</td>\n",
       "      <td>0.420168</td>\n",
       "      <td>0.434818</td>\n",
       "      <td>100</td>\n",
       "      <td>0.0001</td>\n",
       "      <td>rbf</td>\n",
       "      <td>{u'kernel': u'rbf', u'C': 100, u'gamma': 0.0001}</td>\n",
       "      <td>8</td>\n",
       "      <td>0.444444</td>\n",
       "      <td>0.426752</td>\n",
       "      <td>0.4000</td>\n",
       "      <td>0.436709</td>\n",
       "      <td>0.415584</td>\n",
       "      <td>0.440994</td>\n",
       "      <td>0.016418</td>\n",
       "      <td>0.000471</td>\n",
       "      <td>0.018550</td>\n",
       "      <td>0.005966</td>\n",
       "    </tr>\n",
       "    <tr>\n",
       "      <th>10</th>\n",
       "      <td>0.678667</td>\n",
       "      <td>0.036333</td>\n",
       "      <td>0.781513</td>\n",
       "      <td>1.000000</td>\n",
       "      <td>1000</td>\n",
       "      <td>0.001</td>\n",
       "      <td>rbf</td>\n",
       "      <td>{u'kernel': u'rbf', u'C': 1000, u'gamma': 0.001}</td>\n",
       "      <td>1</td>\n",
       "      <td>0.740741</td>\n",
       "      <td>1.000000</td>\n",
       "      <td>0.7625</td>\n",
       "      <td>1.000000</td>\n",
       "      <td>0.844156</td>\n",
       "      <td>1.000000</td>\n",
       "      <td>0.020270</td>\n",
       "      <td>0.003091</td>\n",
       "      <td>0.044236</td>\n",
       "      <td>0.000000</td>\n",
       "    </tr>\n",
       "    <tr>\n",
       "      <th>11</th>\n",
       "      <td>0.626000</td>\n",
       "      <td>0.037000</td>\n",
       "      <td>0.710084</td>\n",
       "      <td>0.972743</td>\n",
       "      <td>1000</td>\n",
       "      <td>0.0001</td>\n",
       "      <td>rbf</td>\n",
       "      <td>{u'kernel': u'rbf', u'C': 1000, u'gamma': 0.0001}</td>\n",
       "      <td>6</td>\n",
       "      <td>0.654321</td>\n",
       "      <td>0.968153</td>\n",
       "      <td>0.7250</td>\n",
       "      <td>0.987342</td>\n",
       "      <td>0.753247</td>\n",
       "      <td>0.962733</td>\n",
       "      <td>0.019613</td>\n",
       "      <td>0.000816</td>\n",
       "      <td>0.041663</td>\n",
       "      <td>0.010558</td>\n",
       "    </tr>\n",
       "  </tbody>\n",
       "</table>\n",
       "</div>"
      ],
      "text/plain": [
       "    mean_fit_time  mean_score_time  mean_test_score  mean_train_score param_C  \\\n",
       "0        0.652333         0.037333         0.781513          1.000000       1   \n",
       "1        0.647333         0.040000         0.781513          1.000000      10   \n",
       "2        0.650000         0.034000         0.781513          1.000000     100   \n",
       "3        0.662667         0.037333         0.781513          1.000000    1000   \n",
       "4        0.653333         0.044000         0.243697          0.243703       1   \n",
       "5        0.583667         0.042000         0.243697          0.243703       1   \n",
       "6        0.671333         0.041333         0.420168          0.434818      10   \n",
       "7        0.657667         0.041333         0.243697          0.243703      10   \n",
       "8        0.626000         0.037000         0.705882          0.970619     100   \n",
       "9        0.663667         0.039667         0.420168          0.434818     100   \n",
       "10       0.678667         0.036333         0.781513          1.000000    1000   \n",
       "11       0.626000         0.037000         0.710084          0.972743    1000   \n",
       "\n",
       "   param_gamma param_kernel  \\\n",
       "0          NaN       linear   \n",
       "1          NaN       linear   \n",
       "2          NaN       linear   \n",
       "3          NaN       linear   \n",
       "4        0.001          rbf   \n",
       "5       0.0001          rbf   \n",
       "6        0.001          rbf   \n",
       "7       0.0001          rbf   \n",
       "8        0.001          rbf   \n",
       "9       0.0001          rbf   \n",
       "10       0.001          rbf   \n",
       "11      0.0001          rbf   \n",
       "\n",
       "                                               params  rank_test_score  \\\n",
       "0                     {u'kernel': u'linear', u'C': 1}                1   \n",
       "1                    {u'kernel': u'linear', u'C': 10}                1   \n",
       "2                   {u'kernel': u'linear', u'C': 100}                1   \n",
       "3                  {u'kernel': u'linear', u'C': 1000}                1   \n",
       "4       {u'kernel': u'rbf', u'C': 1, u'gamma': 0.001}               10   \n",
       "5      {u'kernel': u'rbf', u'C': 1, u'gamma': 0.0001}               10   \n",
       "6      {u'kernel': u'rbf', u'C': 10, u'gamma': 0.001}                8   \n",
       "7     {u'kernel': u'rbf', u'C': 10, u'gamma': 0.0001}               10   \n",
       "8     {u'kernel': u'rbf', u'C': 100, u'gamma': 0.001}                7   \n",
       "9    {u'kernel': u'rbf', u'C': 100, u'gamma': 0.0001}                8   \n",
       "10   {u'kernel': u'rbf', u'C': 1000, u'gamma': 0.001}                1   \n",
       "11  {u'kernel': u'rbf', u'C': 1000, u'gamma': 0.0001}                6   \n",
       "\n",
       "    split0_test_score  split0_train_score  split1_test_score  \\\n",
       "0            0.740741            1.000000             0.7625   \n",
       "1            0.740741            1.000000             0.7625   \n",
       "2            0.740741            1.000000             0.7625   \n",
       "3            0.740741            1.000000             0.7625   \n",
       "4            0.246914            0.242038             0.2375   \n",
       "5            0.246914            0.242038             0.2375   \n",
       "6            0.444444            0.426752             0.4000   \n",
       "7            0.246914            0.242038             0.2375   \n",
       "8            0.654321            0.961783             0.7125   \n",
       "9            0.444444            0.426752             0.4000   \n",
       "10           0.740741            1.000000             0.7625   \n",
       "11           0.654321            0.968153             0.7250   \n",
       "\n",
       "    split1_train_score  split2_test_score  split2_train_score  std_fit_time  \\\n",
       "0             1.000000           0.844156            1.000000      0.015326   \n",
       "1             1.000000           0.844156            1.000000      0.021453   \n",
       "2             1.000000           0.844156            1.000000      0.015513   \n",
       "3             1.000000           0.844156            1.000000      0.023893   \n",
       "4             0.246835           0.246753            0.242236      0.020548   \n",
       "5             0.246835           0.246753            0.242236      0.008014   \n",
       "6             0.436709           0.415584            0.440994      0.012763   \n",
       "7             0.246835           0.246753            0.242236      0.012684   \n",
       "8             0.987342           0.753247            0.962733      0.021182   \n",
       "9             0.436709           0.415584            0.440994      0.016418   \n",
       "10            1.000000           0.844156            1.000000      0.020270   \n",
       "11            0.987342           0.753247            0.962733      0.019613   \n",
       "\n",
       "    std_score_time  std_test_score  std_train_score  \n",
       "0         0.002055        0.044236         0.000000  \n",
       "1         0.005099        0.044236         0.000000  \n",
       "2         0.004243        0.044236         0.000000  \n",
       "3         0.002055        0.044236         0.000000  \n",
       "4         0.006377        0.004410         0.002216  \n",
       "5         0.003559        0.004410         0.002216  \n",
       "6         0.002868        0.018550         0.005966  \n",
       "7         0.002625        0.004410         0.002216  \n",
       "8         0.000817        0.040563         0.011831  \n",
       "9         0.000471        0.018550         0.005966  \n",
       "10        0.003091        0.044236         0.000000  \n",
       "11        0.000816        0.041663         0.010558  "
      ]
     },
     "execution_count": 169,
     "metadata": {},
     "output_type": "execute_result"
    }
   ],
   "source": [
    "d = clf.cv_results_\n",
    "pd.DataFrame(d)#, orient='columns', dtype=None)\n",
    "#pd.DataFrame(d.items())"
   ]
  },
  {
   "cell_type": "markdown",
   "metadata": {},
   "source": [
    "Save the Model:"
   ]
  },
  {
   "cell_type": "code",
   "execution_count": 170,
   "metadata": {
    "collapsed": true
   },
   "outputs": [],
   "source": [
    "filename = 'finalized_model.sav'\n",
    "pickle.dump(clf, open(filename, 'wb'))"
   ]
  },
  {
   "cell_type": "markdown",
   "metadata": {},
   "source": [
    "# Testing SVM Model/Classifier"
   ]
  },
  {
   "cell_type": "markdown",
   "metadata": {},
   "source": [
    "Testing the Model:"
   ]
  },
  {
   "cell_type": "code",
   "execution_count": 171,
   "metadata": {
    "collapsed": true
   },
   "outputs": [],
   "source": [
    "y_pred = clf.predict(X_test)"
   ]
  },
  {
   "cell_type": "markdown",
   "metadata": {},
   "source": [
    "SVM Classification Report:"
   ]
  },
  {
   "cell_type": "code",
   "execution_count": 172,
   "metadata": {},
   "outputs": [
    {
     "name": "stdout",
     "output_type": "stream",
     "text": [
      "             precision    recall  f1-score   support\n",
      "\n",
      "      Angry       0.75      0.92      0.83        13\n",
      "    Disgust       1.00      0.94      0.97        18\n",
      "       Fear       0.75      0.43      0.55         7\n",
      "      Happy       0.91      1.00      0.95        20\n",
      "    Neutral       0.80      0.73      0.76        11\n",
      "        Sad       0.62      0.62      0.62         8\n",
      "   Surprise       0.96      0.96      0.96        25\n",
      "\n",
      "avg / total       0.87      0.87      0.87       102\n",
      "\n"
     ]
    }
   ],
   "source": [
    "print classification_report(y_test, y_pred, target_names=[\"Angry\", \"Disgust\", \"Fear\", \"Happy\", \"Neutral\", \"Sad\", \"Surprise\"])"
   ]
  },
  {
   "cell_type": "markdown",
   "metadata": {},
   "source": [
    "SVM Confusion Matrix:"
   ]
  },
  {
   "cell_type": "code",
   "execution_count": 174,
   "metadata": {},
   "outputs": [
    {
     "name": "stdout",
     "output_type": "stream",
     "text": [
      "[[12  0  0  0  0  1  0]\n",
      " [ 0 17  1  0  0  0  0]\n",
      " [ 0  0  3  2  1  1  0]\n",
      " [ 0  0  0 20  0  0  0]\n",
      " [ 3  0  0  0  8  0  0]\n",
      " [ 1  0  0  0  1  5  1]\n",
      " [ 0  0  0  0  0  1 24]]\n"
     ]
    },
    {
     "data": {
      "image/png": "[encoded data removed]",
      "text/plain": [
       "<matplotlib.figure.Figure at 0x1fc5d780>"
      ]
     },
     "metadata": {},
     "output_type": "display_data"
    },
    {
     "data": {
      "image/png": "[encoded data removed]",
      "text/plain": [
       "<matplotlib.figure.Figure at 0x1fcdc630>"
      ]
     },
     "metadata": {},
     "output_type": "display_data"
    },
    {
     "data": {
      "text/plain": [
       "<matplotlib.figure.Figure at 0x1fd11e10>"
      ]
     },
     "metadata": {},
     "output_type": "display_data"
    },
    {
     "data": {
      "image/png": "[encoded data removed]",
      "text/plain": [
       "<matplotlib.figure.Figure at 0x20f4d1d0>"
      ]
     },
     "metadata": {},
     "output_type": "display_data"
    },
    {
     "data": {
      "image/png": "[encoded data removed]",
      "text/plain": [
       "<matplotlib.figure.Figure at 0x20f4df60>"
      ]
     },
     "metadata": {},
     "output_type": "display_data"
    },
    {
     "data": {
      "image/png": "[encoded data removed]",
      "text/plain": [
       "<matplotlib.figure.Figure at 0x20049ba8>"
      ]
     },
     "metadata": {},
     "output_type": "display_data"
    },
    {
     "data": {
      "image/png": "[encoded data removed]",
      "text/plain": [
       "<matplotlib.figure.Figure at 0x20f50550>"
      ]
     },
     "metadata": {},
     "output_type": "display_data"
    }
   ],
   "source": [
    "#TP|FP\n",
    "#FN|TN\n",
    "#print confusion_matrix(y_test, y_pred, labels=[1,2,3,4,5,6,7])#range(7))\n",
    "labels = [1,2,3,4,5,6,7]\n",
    "cm = confusion_matrix(y_test, y_pred, labels)\n",
    "print(cm)\n",
    "fig = plt.figure()\n",
    "ax = fig.add_subplot(111)\n",
    "cax = ax.matshow(cm)\n",
    "pl.title('Confusion matrix of the classifier')\n",
    "fig.colorbar(cax)\n",
    "ax.set_xticklabels([''] + labels)\n",
    "ax.set_yticklabels([''] + labels)\n",
    "pl.xlabel('Predicted')\n",
    "pl.ylabel('True')\n",
    "pl.show()"
   ]
  },
  {
   "cell_type": "markdown",
   "metadata": {},
   "source": [
    "SVM Accuracy Score:"
   ]
  },
  {
   "cell_type": "code",
   "execution_count": 158,
   "metadata": {},
   "outputs": [
    {
     "name": "stdout",
     "output_type": "stream",
     "text": [
      "87.25\n"
     ]
    }
   ],
   "source": [
    "acc = accuracy_score(y_test, y_pred, normalize=True)\n",
    "print '{0:.2f}'.format(acc*100)"
   ]
  },
  {
   "cell_type": "markdown",
   "metadata": {},
   "source": [
    " # **End**"
   ]
  }
 ],
 "metadata": {
  "celltoolbar": "Raw Cell Format",
  "kernelspec": {
   "display_name": "Python 2",
   "language": "python",
   "name": "python2"
  },
  "language_info": {
   "codemirror_mode": {
    "name": "ipython",
    "version": 2
   },
   "file_extension": ".py",
   "mimetype": "text/x-python",
   "name": "python",
   "nbconvert_exporter": "python",
   "pygments_lexer": "ipython2",
   "version": "2.7.12"
  }
 },
 "nbformat": 4,
 "nbformat_minor": 2
}
